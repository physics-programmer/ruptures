{
 "cells": [
  {
   "cell_type": "code",
   "execution_count": 1,
   "metadata": {},
   "outputs": [],
   "source": [
    "# Importation des bibliothèques nécessaires\n",
    "import numpy as np\n",
    "import ruptures as rpt\n",
    "from ruptures import KMeansDetector\n",
    "from ruptures.metrics import randindex, hausdorff\n",
    "import matplotlib.pyplot as plt\n",
    "\n",
    "# Génération d'un signal\n",
    "n_samples, dim, sigma = 500, 3, 4\n",
    "n_bkps = 4  # nombre de points de rupture\n",
    "signal, bkps = rpt.pw_constant(n_samples, dim, n_bkps, noise_std=sigma)\n"
   ]
  },
  {
   "cell_type": "code",
   "execution_count": 2,
   "metadata": {},
   "outputs": [
    {
     "name": "stderr",
     "output_type": "stream",
     "text": [
      "/home/codespace/.local/lib/python3.10/site-packages/sklearn/cluster/_kmeans.py:870: FutureWarning: The default value of `n_init` will change from 10 to 'auto' in 1.4. Set the value of `n_init` explicitly to suppress the warning\n",
      "  warnings.warn(\n"
     ]
    },
    {
     "ename": "BadPartitions",
     "evalue": "The end of the last regime is not the same for each of the partitions:\n[99, 203, 300, 399, 500]\n[  1   4   5   6   9  10  12  13  14  15  18  20  23  25  31  32  37  38\n  41  42  48  49  55  56  58  59  62  64  65  66  67  68  69  72  73  75\n  76  78  81  85  87  92  93  96  97 100 101 102 103 104 105 106 107 108\n 109 111 112 113 114 116 117 118 120 122 123 124 125 126 127 128 129 130\n 131 132 133 134 136 137 138 139 140 141 144 145 147 148 149 150 151 152\n 153 154 157 158 159 160 161 162 163 164 165 166 167 169 170 172 174 175\n 176 177 178 179 180 181 182 183 184 186 188 189 190 191 192 194 195 199\n 200 201 202 203 207 210 211 212 214 216 218 219 231 232 233 234 235 236\n 237 239 240 242 243 246 247 248 251 252 254 255 259 260 261 262 269 270\n 271 272 273 274 282 284 288 289 290 293 294 297 298 299 302 303 305 306\n 307 308 309 310 311 313 314 315 316 321 322 324 325 326 327 328 333 334\n 341 342 348 349 351 352 356 357 359 360 368 369 370 372 374 375 378 379\n 383 385 391 392 393 394 395 396 397 399 403 404 405 408 409 410 415 417\n 418 422 423 426 427 428 429 432 433 438 439 441 442 444 445 447 448 454\n 455 456 458 459 461 462 463 465 466 467 468 470 471 472 476 478 479 480\n 481 482 483 486 488 489 490 491 492 493 497 498 499]",
     "output_type": "error",
     "traceback": [
      "\u001b[0;31m---------------------------------------------------------------------------\u001b[0m",
      "\u001b[0;31mBadPartitions\u001b[0m                             Traceback (most recent call last)",
      "Cell \u001b[0;32mIn[2], line 11\u001b[0m\n\u001b[1;32m      8\u001b[0m binseg_bkps \u001b[39m=\u001b[39m binseg\u001b[39m.\u001b[39mpredict(n_bkps\u001b[39m=\u001b[39mn_bkps)\n\u001b[1;32m     10\u001b[0m \u001b[39m# Evaluation de la prédiction\u001b[39;00m\n\u001b[0;32m---> 11\u001b[0m kmd_ri \u001b[39m=\u001b[39m randindex(bkps, kmd_bkps)\n\u001b[1;32m     12\u001b[0m binseg_ri \u001b[39m=\u001b[39m randindex(bkps, binseg_bkps)\n\u001b[1;32m     14\u001b[0m kmd_hd \u001b[39m=\u001b[39m hausdorff(bkps, kmd_bkps)\n",
      "File \u001b[0;32m/workspaces/ruptures/src/ruptures/metrics/randindex.py:24\u001b[0m, in \u001b[0;36mrandindex\u001b[0;34m(bkps1, bkps2)\u001b[0m\n\u001b[1;32m      5\u001b[0m \u001b[39mdef\u001b[39;00m \u001b[39mrandindex\u001b[39m(bkps1, bkps2):\n\u001b[1;32m      6\u001b[0m \u001b[39m    \u001b[39m\u001b[39m\"\"\"Computes the Rand index (between 0 and 1) between two segmentations.\u001b[39;00m\n\u001b[1;32m      7\u001b[0m \n\u001b[1;32m      8\u001b[0m \u001b[39m    The Rand index (RI) measures the similarity between two segmentations and\u001b[39;00m\n\u001b[0;32m   (...)\u001b[0m\n\u001b[1;32m     22\u001b[0m \u001b[39m        float: Rand index\u001b[39;00m\n\u001b[1;32m     23\u001b[0m \u001b[39m    \"\"\"\u001b[39;00m\n\u001b[0;32m---> 24\u001b[0m     sanity_check(bkps1, bkps2)\n\u001b[1;32m     25\u001b[0m     n_samples \u001b[39m=\u001b[39m bkps1[\u001b[39m-\u001b[39m\u001b[39m1\u001b[39m]\n\u001b[1;32m     26\u001b[0m     bkps1_with_0 \u001b[39m=\u001b[39m [\u001b[39m0\u001b[39m] \u001b[39m+\u001b[39m bkps1\n",
      "File \u001b[0;32m/workspaces/ruptures/src/ruptures/metrics/sanity_check.py:29\u001b[0m, in \u001b[0;36msanity_check\u001b[0;34m(bkps1, bkps2)\u001b[0m\n\u001b[1;32m     27\u001b[0m \u001b[39m# checks if both ends with the same index.\u001b[39;00m\n\u001b[1;32m     28\u001b[0m \u001b[39mif\u001b[39;00m \u001b[39mmax\u001b[39m(bkps1) \u001b[39m!=\u001b[39m \u001b[39mmax\u001b[39m(bkps2):\n\u001b[0;32m---> 29\u001b[0m     \u001b[39mraise\u001b[39;00m BadPartitions(\n\u001b[1;32m     30\u001b[0m         \u001b[39m\"\u001b[39m\u001b[39mThe end of the last regime is not the same for each of the \u001b[39m\u001b[39m\"\u001b[39m\n\u001b[1;32m     31\u001b[0m         \u001b[39m\"\u001b[39m\u001b[39mpartitions:\u001b[39m\u001b[39m\\n\u001b[39;00m\u001b[39m{}\u001b[39;00m\u001b[39m\\n\u001b[39;00m\u001b[39m{}\u001b[39;00m\u001b[39m\"\u001b[39m\u001b[39m.\u001b[39mformat(bkps1, bkps2)\n\u001b[1;32m     32\u001b[0m     )\n\u001b[1;32m     33\u001b[0m \u001b[39m# checks if there is repetition.\u001b[39;00m\n\u001b[1;32m     34\u001b[0m \u001b[39mfor\u001b[39;00m bkps \u001b[39min\u001b[39;00m (bkps1, bkps2):\n",
      "\u001b[0;31mBadPartitions\u001b[0m: The end of the last regime is not the same for each of the partitions:\n[99, 203, 300, 399, 500]\n[  1   4   5   6   9  10  12  13  14  15  18  20  23  25  31  32  37  38\n  41  42  48  49  55  56  58  59  62  64  65  66  67  68  69  72  73  75\n  76  78  81  85  87  92  93  96  97 100 101 102 103 104 105 106 107 108\n 109 111 112 113 114 116 117 118 120 122 123 124 125 126 127 128 129 130\n 131 132 133 134 136 137 138 139 140 141 144 145 147 148 149 150 151 152\n 153 154 157 158 159 160 161 162 163 164 165 166 167 169 170 172 174 175\n 176 177 178 179 180 181 182 183 184 186 188 189 190 191 192 194 195 199\n 200 201 202 203 207 210 211 212 214 216 218 219 231 232 233 234 235 236\n 237 239 240 242 243 246 247 248 251 252 254 255 259 260 261 262 269 270\n 271 272 273 274 282 284 288 289 290 293 294 297 298 299 302 303 305 306\n 307 308 309 310 311 313 314 315 316 321 322 324 325 326 327 328 333 334\n 341 342 348 349 351 352 356 357 359 360 368 369 370 372 374 375 378 379\n 383 385 391 392 393 394 395 396 397 399 403 404 405 408 409 410 415 417\n 418 422 423 426 427 428 429 432 433 438 439 441 442 444 445 447 448 454\n 455 456 458 459 461 462 463 465 466 467 468 470 471 472 476 478 479 480\n 481 482 483 486 488 489 490 491 492 493 497 498 499]"
     ]
    }
   ],
   "source": [
    "# KMeansDetector (KMeansDetector)\n",
    "kmd = rpt.KMeansDetector()\n",
    "kmd.fit(signal)\n",
    "kmd_bkps = kmd.predict(n_bkps=n_bkps)\n",
    "\n",
    "# Méthode de segmentation binaire\n",
    "binseg = rpt.Binseg().fit(signal)\n",
    "binseg_bkps = binseg.predict(n_bkps=n_bkps)\n",
    "\n",
    "# Evaluation de la prédiction\n",
    "kmd_ri = randindex(bkps, kmd_bkps)\n",
    "binseg_ri = randindex(bkps, binseg_bkps)\n",
    "\n",
    "kmd_hd = hausdorff(bkps, kmd_bkps)\n",
    "binseg_hd = hausdorff(bkps, binseg_bkps)\n",
    "\n",
    "# Afficher les scores\n",
    "print(f\"KMeansDetector: Rand index = {kmd_ri}, Hausdorff distance = {kmd_hd}\")\n",
    "print(f\"Binary Segmentation: Rand index = {binseg_ri}, Hausdorff distance = {binseg_hd}\")\n"
   ]
  },
  {
   "cell_type": "code",
   "execution_count": null,
   "metadata": {},
   "outputs": [],
   "source": [
    "# Comparaison graphique des méthodes\n",
    "fig, (ax1, ax2) = plt.subplots(2, 1, figsize=(10, 6))\n",
    "rpt.display(signal, bkps, kmd_bkps, ax=ax1)\n",
    "ax1.set_title(f\"CamisDetector (Rand index = {kmd_ri:.2f}, Hausdorff distance = {kmd_hd:.2f})\")\n",
    "rpt.display(signal, bkps, binseg_bkps, ax=ax2)\n",
    "ax2.set_title(f\"Binary Segmentation (Rand index = {binseg_ri:.2f}, Hausdorff distance = {binseg_hd:.2f})\")\n",
    "fig.tight_layout()\n",
    "plt.show()\n",
    "\n",
    "\n",
    "\n",
    "\n",
    "\n"
   ]
  }
 ],
 "metadata": {
  "kernelspec": {
   "display_name": "Python 3",
   "language": "python",
   "name": "python3"
  },
  "language_info": {
   "codemirror_mode": {
    "name": "ipython",
    "version": 3
   },
   "file_extension": ".py",
   "mimetype": "text/x-python",
   "name": "python",
   "nbconvert_exporter": "python",
   "pygments_lexer": "ipython3",
   "version": "3.10.8"
  },
  "orig_nbformat": 4
 },
 "nbformat": 4,
 "nbformat_minor": 2
}
